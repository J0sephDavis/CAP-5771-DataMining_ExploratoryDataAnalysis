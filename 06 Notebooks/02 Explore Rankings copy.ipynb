{
 "cells": [
  {
   "cell_type": "markdown",
   "id": "74e68db7",
   "metadata": {},
   "source": [
    "Get Environment Info & Import Primary Libraries"
   ]
  },
  {
   "cell_type": "code",
   "execution_count": 1,
   "id": "0f2094a2",
   "metadata": {},
   "outputs": [
    {
     "name": "stdout",
     "output_type": "stream",
     "text": [
      "/home/sooth/Documents/Beta/80-89 Second Degree/81 Courses/01 CAP5771 - DM TM/04  DM Project/01_Dataset\n",
      "/home/sooth/Documents/Beta/80-89 Second Degree/81 Courses/01 CAP5771 - DM TM/04  DM Project/01_Dataset/06 UserAnimeList.csv\n"
     ]
    }
   ],
   "source": [
    "import os\n",
    "from dotenv import load_dotenv;\n",
    "load_dotenv('../data.env')\n",
    "mal_data_folder = os.getenv('MAL_DATA_FOLDER','')\n",
    "print(mal_data_folder)\n",
    "data_ranking_info = os.getenv('MAL_RANKING_LIST','')\n",
    "print(data_ranking_info)"
   ]
  },
  {
   "cell_type": "code",
   "execution_count": 2,
   "id": "d93eccdc",
   "metadata": {},
   "outputs": [],
   "source": [
    "import seaborn as sns;\n",
    "import matplotlib.pyplot as plt;\n",
    "\n",
    "import pandas as pd;\n",
    "from pandas.plotting import scatter_matrix\n",
    "import numpy as np;\n",
    "\n",
    "from sklearn import set_config\n",
    "set_config(transform_output='pandas');"
   ]
  },
  {
   "cell_type": "markdown",
   "id": "14cb30dc",
   "metadata": {},
   "source": [
    "Explore the User List"
   ]
  },
  {
   "cell_type": "code",
   "execution_count": 3,
   "id": "1906b020",
   "metadata": {},
   "outputs": [],
   "source": [
    "def load_rankings()->pd.DataFrame:\n",
    "\tif (data_ranking_info.isspace()):\n",
    "\t\traise Exception('user_list is whitespace, cannot load_users')\n",
    "\tframe:pd.DataFrame = pd.read_csv(data_ranking_info, nrows=2000)\n",
    "\tframe.drop(axis=1, columns=[\n",
    "\t\t'my_rewatching', 'my_rewatching_ep', 'my_tags',\n",
    "\t\t'my_start_date', 'my_finish_date',\n",
    "\t\t], inplace=True\n",
    "\t)\n",
    "\t# # Location & Username are unimportant. access_rank? all null.\n",
    "\t# frame.drop(columns=['location','username','access_rank'],axis=1, inplace=True)\n",
    "\t# # We care about gender! User_id should not be null.\n",
    "\t# frame.dropna(axis=0,subset=['gender','user_id'], inplace=True);\n",
    "\t# # If a user has not completed anything, do not consider.\n",
    "\t# frame.drop(index=frame[frame['user_completed']==0].index, inplace=True)\n",
    "\t# # If user has not rated anything, do not consider.\n",
    "\t# frame.drop(index=frame[frame['stats_mean_score']==0].index, inplace=True)\n",
    "\treturn frame"
   ]
  },
  {
   "cell_type": "code",
   "execution_count": 4,
   "id": "e21038ba",
   "metadata": {},
   "outputs": [],
   "source": [
    "df:pd.DataFrame = load_rankings()"
   ]
  },
  {
   "cell_type": "code",
   "execution_count": 5,
   "id": "286789dc",
   "metadata": {},
   "outputs": [
    {
     "name": "stdout",
     "output_type": "stream",
     "text": [
      "<class 'pandas.core.frame.DataFrame'>\n",
      "RangeIndex: 2000 entries, 0 to 1999\n",
      "Data columns (total 6 columns):\n",
      " #   Column               Non-Null Count  Dtype \n",
      "---  ------               --------------  ----- \n",
      " 0   username             2000 non-null   object\n",
      " 1   anime_id             2000 non-null   int64 \n",
      " 2   my_watched_episodes  2000 non-null   int64 \n",
      " 3   my_score             2000 non-null   int64 \n",
      " 4   my_status            2000 non-null   int64 \n",
      " 5   my_last_updated      2000 non-null   int64 \n",
      "dtypes: int64(5), object(1)\n",
      "memory usage: 93.9+ KB\n"
     ]
    }
   ],
   "source": [
    "df.info()"
   ]
  },
  {
   "cell_type": "code",
   "execution_count": 6,
   "id": "4c70b900",
   "metadata": {},
   "outputs": [
    {
     "data": {
      "text/html": [
       "<div>\n",
       "<style scoped>\n",
       "    .dataframe tbody tr th:only-of-type {\n",
       "        vertical-align: middle;\n",
       "    }\n",
       "\n",
       "    .dataframe tbody tr th {\n",
       "        vertical-align: top;\n",
       "    }\n",
       "\n",
       "    .dataframe thead th {\n",
       "        text-align: right;\n",
       "    }\n",
       "</style>\n",
       "<table border=\"1\" class=\"dataframe\">\n",
       "  <thead>\n",
       "    <tr style=\"text-align: right;\">\n",
       "      <th></th>\n",
       "      <th>username</th>\n",
       "      <th>anime_id</th>\n",
       "      <th>my_watched_episodes</th>\n",
       "      <th>my_score</th>\n",
       "      <th>my_status</th>\n",
       "      <th>my_last_updated</th>\n",
       "    </tr>\n",
       "  </thead>\n",
       "  <tbody>\n",
       "    <tr>\n",
       "      <th>0</th>\n",
       "      <td>karthiga</td>\n",
       "      <td>21</td>\n",
       "      <td>586</td>\n",
       "      <td>9</td>\n",
       "      <td>1</td>\n",
       "      <td>1362307973</td>\n",
       "    </tr>\n",
       "    <tr>\n",
       "      <th>1</th>\n",
       "      <td>karthiga</td>\n",
       "      <td>59</td>\n",
       "      <td>26</td>\n",
       "      <td>7</td>\n",
       "      <td>2</td>\n",
       "      <td>1362923691</td>\n",
       "    </tr>\n",
       "    <tr>\n",
       "      <th>2</th>\n",
       "      <td>karthiga</td>\n",
       "      <td>74</td>\n",
       "      <td>26</td>\n",
       "      <td>7</td>\n",
       "      <td>2</td>\n",
       "      <td>1367081015</td>\n",
       "    </tr>\n",
       "    <tr>\n",
       "      <th>3</th>\n",
       "      <td>karthiga</td>\n",
       "      <td>120</td>\n",
       "      <td>26</td>\n",
       "      <td>7</td>\n",
       "      <td>2</td>\n",
       "      <td>1362308037</td>\n",
       "    </tr>\n",
       "    <tr>\n",
       "      <th>4</th>\n",
       "      <td>karthiga</td>\n",
       "      <td>178</td>\n",
       "      <td>26</td>\n",
       "      <td>7</td>\n",
       "      <td>2</td>\n",
       "      <td>1364399953</td>\n",
       "    </tr>\n",
       "  </tbody>\n",
       "</table>\n",
       "</div>"
      ],
      "text/plain": [
       "   username  anime_id  my_watched_episodes  my_score  my_status  \\\n",
       "0  karthiga        21                  586         9          1   \n",
       "1  karthiga        59                   26         7          2   \n",
       "2  karthiga        74                   26         7          2   \n",
       "3  karthiga       120                   26         7          2   \n",
       "4  karthiga       178                   26         7          2   \n",
       "\n",
       "   my_last_updated  \n",
       "0       1362307973  \n",
       "1       1362923691  \n",
       "2       1367081015  \n",
       "3       1362308037  \n",
       "4       1364399953  "
      ]
     },
     "execution_count": 6,
     "metadata": {},
     "output_type": "execute_result"
    }
   ],
   "source": [
    "df.head()"
   ]
  },
  {
   "cell_type": "code",
   "execution_count": 7,
   "id": "98d4fa7a",
   "metadata": {},
   "outputs": [
    {
     "data": {
      "text/html": [
       "<div>\n",
       "<style scoped>\n",
       "    .dataframe tbody tr th:only-of-type {\n",
       "        vertical-align: middle;\n",
       "    }\n",
       "\n",
       "    .dataframe tbody tr th {\n",
       "        vertical-align: top;\n",
       "    }\n",
       "\n",
       "    .dataframe thead th {\n",
       "        text-align: right;\n",
       "    }\n",
       "</style>\n",
       "<table border=\"1\" class=\"dataframe\">\n",
       "  <thead>\n",
       "    <tr style=\"text-align: right;\">\n",
       "      <th></th>\n",
       "      <th>anime_id</th>\n",
       "      <th>my_watched_episodes</th>\n",
       "      <th>my_score</th>\n",
       "      <th>my_status</th>\n",
       "      <th>my_last_updated</th>\n",
       "    </tr>\n",
       "  </thead>\n",
       "  <tbody>\n",
       "    <tr>\n",
       "      <th>count</th>\n",
       "      <td>2000.000000</td>\n",
       "      <td>2000.000000</td>\n",
       "      <td>2000.000000</td>\n",
       "      <td>2000.000000</td>\n",
       "      <td>2.000000e+03</td>\n",
       "    </tr>\n",
       "    <tr>\n",
       "      <th>mean</th>\n",
       "      <td>8646.761500</td>\n",
       "      <td>14.438500</td>\n",
       "      <td>4.784500</td>\n",
       "      <td>2.869500</td>\n",
       "      <td>1.304349e+09</td>\n",
       "    </tr>\n",
       "    <tr>\n",
       "      <th>std</th>\n",
       "      <td>9512.276849</td>\n",
       "      <td>37.024406</td>\n",
       "      <td>3.863486</td>\n",
       "      <td>1.724516</td>\n",
       "      <td>2.839571e+08</td>\n",
       "    </tr>\n",
       "    <tr>\n",
       "      <th>min</th>\n",
       "      <td>1.000000</td>\n",
       "      <td>0.000000</td>\n",
       "      <td>0.000000</td>\n",
       "      <td>1.000000</td>\n",
       "      <td>0.000000e+00</td>\n",
       "    </tr>\n",
       "    <tr>\n",
       "      <th>25%</th>\n",
       "      <td>859.250000</td>\n",
       "      <td>1.000000</td>\n",
       "      <td>0.000000</td>\n",
       "      <td>2.000000</td>\n",
       "      <td>1.274241e+09</td>\n",
       "    </tr>\n",
       "    <tr>\n",
       "      <th>50%</th>\n",
       "      <td>4978.000000</td>\n",
       "      <td>6.000000</td>\n",
       "      <td>6.000000</td>\n",
       "      <td>2.000000</td>\n",
       "      <td>1.362923e+09</td>\n",
       "    </tr>\n",
       "    <tr>\n",
       "      <th>75%</th>\n",
       "      <td>13669.500000</td>\n",
       "      <td>13.000000</td>\n",
       "      <td>8.000000</td>\n",
       "      <td>3.000000</td>\n",
       "      <td>1.413744e+09</td>\n",
       "    </tr>\n",
       "    <tr>\n",
       "      <th>max</th>\n",
       "      <td>37349.000000</td>\n",
       "      <td>586.000000</td>\n",
       "      <td>10.000000</td>\n",
       "      <td>6.000000</td>\n",
       "      <td>1.525978e+09</td>\n",
       "    </tr>\n",
       "  </tbody>\n",
       "</table>\n",
       "</div>"
      ],
      "text/plain": [
       "           anime_id  my_watched_episodes     my_score    my_status  \\\n",
       "count   2000.000000          2000.000000  2000.000000  2000.000000   \n",
       "mean    8646.761500            14.438500     4.784500     2.869500   \n",
       "std     9512.276849            37.024406     3.863486     1.724516   \n",
       "min        1.000000             0.000000     0.000000     1.000000   \n",
       "25%      859.250000             1.000000     0.000000     2.000000   \n",
       "50%     4978.000000             6.000000     6.000000     2.000000   \n",
       "75%    13669.500000            13.000000     8.000000     3.000000   \n",
       "max    37349.000000           586.000000    10.000000     6.000000   \n",
       "\n",
       "       my_last_updated  \n",
       "count     2.000000e+03  \n",
       "mean      1.304349e+09  \n",
       "std       2.839571e+08  \n",
       "min       0.000000e+00  \n",
       "25%       1.274241e+09  \n",
       "50%       1.362923e+09  \n",
       "75%       1.413744e+09  \n",
       "max       1.525978e+09  "
      ]
     },
     "execution_count": 7,
     "metadata": {},
     "output_type": "execute_result"
    }
   ],
   "source": [
    "df.describe()"
   ]
  }
 ],
 "metadata": {
  "kernelspec": {
   "display_name": ".venv",
   "language": "python",
   "name": "python3"
  },
  "language_info": {
   "codemirror_mode": {
    "name": "ipython",
    "version": 3
   },
   "file_extension": ".py",
   "mimetype": "text/x-python",
   "name": "python",
   "nbconvert_exporter": "python",
   "pygments_lexer": "ipython3",
   "version": "3.12.3"
  }
 },
 "nbformat": 4,
 "nbformat_minor": 5
}
