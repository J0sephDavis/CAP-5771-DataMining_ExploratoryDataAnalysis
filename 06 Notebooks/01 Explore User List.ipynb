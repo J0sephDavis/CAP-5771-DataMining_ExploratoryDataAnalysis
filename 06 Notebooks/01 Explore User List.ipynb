{
 "cells": [
  {
   "cell_type": "markdown",
   "id": "74e68db7",
   "metadata": {},
   "source": [
    "Get Environment Info & Import Primary Libraries"
   ]
  },
  {
   "cell_type": "code",
   "execution_count": 1,
   "id": "0f2094a2",
   "metadata": {},
   "outputs": [
    {
     "name": "stdout",
     "output_type": "stream",
     "text": [
      "/home/sooth/Documents/Beta/80-89 Second Degree/81 Courses/01 CAP5771 - DM TM/04  DM Project/01_Dataset\n",
      "/home/sooth/Documents/Beta/80-89 Second Degree/81 Courses/01 CAP5771 - DM TM/04  DM Project/01_Dataset/07 UserList.csv\n",
      "/home/sooth/Documents/Beta/80-89 Second Degree/81 Courses/01 CAP5771 - DM TM/04  DM Project/01_Dataset/06 UserAnimeList.csv\n",
      "/home/sooth/Documents/Beta/80-89 Second Degree/81 Courses/01 CAP5771 - DM TM/04  DM Project/01_Dataset/03 AnimeList.csv\n"
     ]
    }
   ],
   "source": [
    "import os\n",
    "from dotenv import load_dotenv;\n",
    "load_dotenv('../data.env')\n",
    "mal_data_folder = os.getenv('MAL_DATA_FOLDER','')\n",
    "print(mal_data_folder)\n",
    "data_user_info = os.getenv('MAL_USER_LIST','')\n",
    "print(data_user_info)\n",
    "data_ranking_info = os.getenv('MAL_RANKING_LIST','')\n",
    "print(data_ranking_info)\n",
    "data_anime_info:str = os.getenv('MAL_ANIME_LIST','')\n",
    "print(data_anime_info)"
   ]
  },
  {
   "cell_type": "code",
   "execution_count": 9,
   "id": "d93eccdc",
   "metadata": {},
   "outputs": [],
   "source": [
    "import seaborn as sns;\n",
    "import matplotlib.pyplot as plt;\n",
    "\n",
    "import pandas as pd;\n",
    "from pandas.plotting import scatter_matrix\n",
    "import numpy as np;\n",
    "\n",
    "from sklearn import set_config\n",
    "set_config(transform_output='pandas');"
   ]
  },
  {
   "cell_type": "markdown",
   "id": "14cb30dc",
   "metadata": {},
   "source": [
    "Explore the User List"
   ]
  },
  {
   "cell_type": "code",
   "execution_count": 46,
   "id": "1906b020",
   "metadata": {},
   "outputs": [],
   "source": [
    "def load_users()->pd.DataFrame:\n",
    "\tprint('USER_LIST:', data_user_info)\n",
    "\tif (data_user_info.isspace()):\n",
    "\t\traise Exception('user_list is whitespace, cannot load_users')\n",
    "\tframe:pd.DataFrame = pd.read_csv(data_user_info)\n",
    "\t# Location & Username are unimportant. access_rank? all null.\n",
    "\tframe.drop(columns=['location','username','access_rank'],axis=1, inplace=True)\n",
    "\t# We care about gender! User_id should not be null.\n",
    "\tframe.dropna(axis=0,subset=['gender','user_id'], inplace=True);\n",
    "\t# If a user has not completed anything, do not consider.\n",
    "\tframe.drop(index=frame[frame['user_completed']==0].index, inplace=True)\n",
    "\t# If user has not rated anything, do not consider.\n",
    "\tframe.drop(index=frame[frame['stats_mean_score']==0].index, inplace=True)\n",
    "\treturn frame"
   ]
  },
  {
   "cell_type": "code",
   "execution_count": 47,
   "id": "e21038ba",
   "metadata": {},
   "outputs": [
    {
     "name": "stdout",
     "output_type": "stream",
     "text": [
      "USER_LIST: /home/sooth/Documents/Beta/80-89 Second Degree/81 Courses/01 CAP5771 - DM TM/04  DM Project/01_Dataset/07 UserList.csv\n"
     ]
    }
   ],
   "source": [
    "user_frame:pd.DataFrame = load_users()"
   ]
  },
  {
   "cell_type": "code",
   "execution_count": 48,
   "id": "286789dc",
   "metadata": {},
   "outputs": [
    {
     "name": "stdout",
     "output_type": "stream",
     "text": [
      "<class 'pandas.core.frame.DataFrame'>\n",
      "Index: 203450 entries, 0 to 302674\n",
      "Data columns (total 14 columns):\n",
      " #   Column                    Non-Null Count   Dtype  \n",
      "---  ------                    --------------   -----  \n",
      " 0   user_id                   203450 non-null  int64  \n",
      " 1   user_watching             203450 non-null  int64  \n",
      " 2   user_completed            203450 non-null  int64  \n",
      " 3   user_onhold               203450 non-null  int64  \n",
      " 4   user_dropped              203450 non-null  int64  \n",
      " 5   user_plantowatch          203450 non-null  int64  \n",
      " 6   user_days_spent_watching  203450 non-null  float64\n",
      " 7   gender                    203450 non-null  object \n",
      " 8   birth_date                150390 non-null  object \n",
      " 9   join_date                 203450 non-null  object \n",
      " 10  last_online               203450 non-null  object \n",
      " 11  stats_mean_score          203450 non-null  float64\n",
      " 12  stats_rewatched           203450 non-null  float64\n",
      " 13  stats_episodes            203450 non-null  float64\n",
      "dtypes: float64(4), int64(6), object(4)\n",
      "memory usage: 23.3+ MB\n"
     ]
    }
   ],
   "source": [
    "user_frame.info()"
   ]
  },
  {
   "cell_type": "code",
   "execution_count": 56,
   "id": "4c70b900",
   "metadata": {},
   "outputs": [
    {
     "name": "stdout",
     "output_type": "stream",
     "text": [
      "user_completed             -0.272386\n",
      "user_dropped               -0.174339\n",
      "user_plantowatch           -0.114345\n",
      "user_onhold                -0.107629\n",
      "user_id                    -0.063120\n",
      "stats_rewatched            -0.060111\n",
      "user_days_spent_watching   -0.019219\n",
      "stats_episodes             -0.018681\n",
      "user_watching              -0.016740\n",
      "stats_mean_score            1.000000\n",
      "dtype: float64\n"
     ]
    }
   ],
   "source": [
    "score_correlation = user_frame.corrwith(user_frame['stats_mean_score'],numeric_only=True)\n",
    "# score_correlation.info()\n",
    "print(score_correlation.sort_values())"
   ]
  }
 ],
 "metadata": {
  "kernelspec": {
   "display_name": ".venv",
   "language": "python",
   "name": "python3"
  },
  "language_info": {
   "codemirror_mode": {
    "name": "ipython",
    "version": 3
   },
   "file_extension": ".py",
   "mimetype": "text/x-python",
   "name": "python",
   "nbconvert_exporter": "python",
   "pygments_lexer": "ipython3",
   "version": "3.12.3"
  }
 },
 "nbformat": 4,
 "nbformat_minor": 5
}
